{
 "cells": [
  {
   "cell_type": "code",
   "execution_count": 1,
   "id": "fd438803",
   "metadata": {},
   "outputs": [
    {
     "name": "stdout",
     "output_type": "stream",
     "text": [
      "100    a\n",
      "101    b\n",
      "102    c\n",
      "103    d\n",
      "dtype: object\n"
     ]
    }
   ],
   "source": [
    "#Series is a one-dimensional labeled array capable of\n",
    "#holding data of any type (integer, string, float, python objects, etc.).\n",
    "#The axis labels are collectively called index.\n",
    "#pandas.Series( data, index, dtype, copy)\n",
    "import pandas as pd \n",
    "import numpy as np \n",
    "data = np.array(['a','b','c','d']) \n",
    "s = pd.Series(data,index=[100,101,102,103]) \n",
    "print( s)\n"
   ]
  },
  {
   "cell_type": "code",
   "execution_count": 2,
   "id": "7c5bfab7",
   "metadata": {},
   "outputs": [
    {
     "data": {
      "text/html": [
       "<div>\n",
       "<style scoped>\n",
       "    .dataframe tbody tr th:only-of-type {\n",
       "        vertical-align: middle;\n",
       "    }\n",
       "\n",
       "    .dataframe tbody tr th {\n",
       "        vertical-align: top;\n",
       "    }\n",
       "\n",
       "    .dataframe thead th {\n",
       "        text-align: right;\n",
       "    }\n",
       "</style>\n",
       "<table border=\"1\" class=\"dataframe\">\n",
       "  <thead>\n",
       "    <tr style=\"text-align: right;\">\n",
       "      <th></th>\n",
       "      <th>Name</th>\n",
       "      <th>Age</th>\n",
       "    </tr>\n",
       "  </thead>\n",
       "  <tbody>\n",
       "    <tr>\n",
       "      <th>0</th>\n",
       "      <td>Alex</td>\n",
       "      <td>10</td>\n",
       "    </tr>\n",
       "    <tr>\n",
       "      <th>1</th>\n",
       "      <td>Bob</td>\n",
       "      <td>12</td>\n",
       "    </tr>\n",
       "    <tr>\n",
       "      <th>2</th>\n",
       "      <td>Clarke</td>\n",
       "      <td>13</td>\n",
       "    </tr>\n",
       "  </tbody>\n",
       "</table>\n",
       "</div>"
      ],
      "text/plain": [
       "     Name  Age\n",
       "0    Alex   10\n",
       "1     Bob   12\n",
       "2  Clarke   13"
      ]
     },
     "execution_count": 2,
     "metadata": {},
     "output_type": "execute_result"
    }
   ],
   "source": [
    "#A Data frame is a two-dimensional data structure,\n",
    "#i.e., data is aligned in a tabular fashion in rows and columns.\n",
    "import pandas as pd \n",
    "data = [['Alex',10],['Bob',12],['Clarke',13]] \n",
    "df = pd.DataFrame(data,columns=['Name','Age'])\n",
    "df\n"
   ]
  },
  {
   "cell_type": "code",
   "execution_count": 9,
   "id": "8d8aee6e",
   "metadata": {},
   "outputs": [
    {
     "name": "stdout",
     "output_type": "stream",
     "text": [
      "   one  two\n",
      "a  1.0    1\n",
      "b  2.0    2\n",
      "c  3.0    3\n",
      "d  NaN    4\n"
     ]
    }
   ],
   "source": [
    "import pandas as pd \n",
    "d = {'one' : pd.Series([1, 2, 3], index=['a', 'b', 'c']), 'two' : pd.Series([1, 2, 3, 4], index=['a', 'b', 'c', 'd'])} \n",
    "df = pd.DataFrame(d) \n",
    "print (df)\n"
   ]
  },
  {
   "cell_type": "code",
   "execution_count": 10,
   "id": "db991d6c",
   "metadata": {},
   "outputs": [
    {
     "name": "stdout",
     "output_type": "stream",
     "text": [
      "a    1.0\n",
      "b    2.0\n",
      "c    3.0\n",
      "d    NaN\n",
      "Name: one, dtype: float64\n"
     ]
    }
   ],
   "source": [
    "d = {'one' : pd.Series([1, 2, 3], index=['a', 'b', 'c']), 'two' : pd.Series([1, 2, 3, 4], index=['a', 'b', 'c', 'd'])} \n",
    "df = pd.DataFrame(d) \n",
    "print (df ['one'])\n"
   ]
  },
  {
   "cell_type": "code",
   "execution_count": 12,
   "id": "acbe7635",
   "metadata": {},
   "outputs": [
    {
     "name": "stdout",
     "output_type": "stream",
     "text": [
      "one     2.0\n",
      "two    10.0\n",
      "Name: b, dtype: float64\n"
     ]
    }
   ],
   "source": [
    "d = {'one' : pd.Series([1, 2, 3], index=['a', 'b', 'c']), 'two' : pd.Series([1, 10, 3, 4], index=['a', 'b', 'c', 'd'])} \n",
    "df = pd.DataFrame(d) \n",
    "print( df.loc['b'])\n"
   ]
  },
  {
   "cell_type": "code",
   "execution_count": 13,
   "id": "0712064a",
   "metadata": {},
   "outputs": [
    {
     "name": "stdout",
     "output_type": "stream",
     "text": [
      "one    3.0\n",
      "two    3.0\n",
      "Name: c, dtype: float64\n"
     ]
    }
   ],
   "source": [
    "import pandas as pd \n",
    "d = {'one' : pd.Series([1, 2, 3], index=['a', 'b', 'c']), 'two' : pd.Series([1, 2, 3, 4], index=['a', 'b', 'c', 'd'])} \n",
    "df = pd.DataFrame(d) \n",
    "print( df.iloc[2])\n"
   ]
  },
  {
   "cell_type": "code",
   "execution_count": 15,
   "id": "2f9327eb",
   "metadata": {},
   "outputs": [
    {
     "name": "stdout",
     "output_type": "stream",
     "text": [
      "   one  two\n",
      "a  1.0    1\n",
      "b  2.0    2\n",
      "c  3.0    3\n",
      "d  NaN    4\n",
      "   one  two\n",
      "c  3.0    3\n",
      "d  NaN    4\n"
     ]
    }
   ],
   "source": [
    "import pandas as pd \n",
    "d = {'one' : pd.Series([1, 2, 3], index=['a', 'b', 'c']), 'two' : pd.Series([1, 2, 3, 4], index=['a', 'b', 'c', 'd'])} \n",
    "df = pd.DataFrame(d) \n",
    "print(df)\n",
    "print(df[2:4])\n"
   ]
  },
  {
   "cell_type": "code",
   "execution_count": 5,
   "id": "f5fe8a5d",
   "metadata": {},
   "outputs": [
    {
     "name": "stdout",
     "output_type": "stream",
     "text": [
      "   one  two\n",
      "a   11    1\n",
      "b   12    2\n",
      "c   13    3\n",
      "d   14    4\n",
      "   one  two\n",
      "e   31   51\n",
      "f   32   52\n",
      "g   33   53\n",
      "h   44   54\n",
      "   one  two\n",
      "a   11    1\n",
      "b   12    2\n",
      "c   13    3\n",
      "d   14    4\n",
      "e   31   51\n",
      "f   32   52\n",
      "g   33   53\n",
      "h   44   54\n"
     ]
    }
   ],
   "source": [
    "#Add new rows to a DataFrame using the append function. \n",
    "import pandas as pd\n",
    "d = {'one' : pd.Series([11, 12, 13,14], index=['a', 'b', 'c','d']), 'two' : pd.Series([1, 2, 3, 4], index=['a', 'b', 'c', 'd'])}\n",
    "df = pd.DataFrame(d)\n",
    "print(df)\n",
    "import pandas as pd\n",
    "d = {'one' : pd.Series([31, 32, 33,44], index=['e', 'f', 'g','h']), 'two' : pd.Series([51, 52, 53, 54], index=['e', 'f', 'g','h'])}\n",
    "df2 = pd.DataFrame(d)\n",
    "print(df2)\n",
    "df3=df.append(df2)\n",
    "print(df3)\n"
   ]
  },
  {
   "cell_type": "code",
   "execution_count": null,
   "id": "259fc17c",
   "metadata": {},
   "outputs": [],
   "source": []
  }
 ],
 "metadata": {
  "kernelspec": {
   "display_name": "Python 3",
   "language": "python",
   "name": "python3"
  },
  "language_info": {
   "codemirror_mode": {
    "name": "ipython",
    "version": 3
   },
   "file_extension": ".py",
   "mimetype": "text/x-python",
   "name": "python",
   "nbconvert_exporter": "python",
   "pygments_lexer": "ipython3",
   "version": "3.8.8"
  }
 },
 "nbformat": 4,
 "nbformat_minor": 5
}
