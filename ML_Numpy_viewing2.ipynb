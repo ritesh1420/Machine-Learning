{
 "cells": [
  {
   "cell_type": "markdown",
   "id": "255e8c64",
   "metadata": {},
   "source": [
    "# viewing arrays and matrices"
   ]
  },
  {
   "cell_type": "code",
   "execution_count": 2,
   "id": "fe2b7886",
   "metadata": {},
   "outputs": [],
   "source": [
    "import numpy as np"
   ]
  },
  {
   "cell_type": "code",
   "execution_count": 3,
   "id": "becf0f4b",
   "metadata": {},
   "outputs": [
    {
     "name": "stdout",
     "output_type": "stream",
     "text": [
      "[[ 5  0  2]\n",
      " [10 12  4]\n",
      " [ 7  0  7]\n",
      " [11  3  8]\n",
      " [ 8  3  8]]\n"
     ]
    },
    {
     "data": {
      "text/plain": [
       "array([ 0,  2,  3,  4,  5,  7,  8, 10, 11, 12])"
      ]
     },
     "execution_count": 3,
     "metadata": {},
     "output_type": "execute_result"
    }
   ],
   "source": [
    "random_array=np.random.randint(0,13,size=(5,3))\n",
    "print(random_array)\n",
    "np.unique(random_array)  ##############imp"
   ]
  },
  {
   "cell_type": "code",
   "execution_count": 2,
   "id": "0e1c6ddc",
   "metadata": {},
   "outputs": [
    {
     "name": "stdout",
     "output_type": "stream",
     "text": [
      "(3, 3)\n",
      "2\n",
      "[[1 2 3]\n",
      " [4 5 6]\n",
      " [7 8 9]]\n"
     ]
    }
   ],
   "source": [
    "a2=np.array([[1,2,3],[4,5,6],[7,8,9]])\n",
    "print(a2.shape)\n",
    "print(a2.ndim)\n",
    "print(a2)"
   ]
  },
  {
   "cell_type": "code",
   "execution_count": 4,
   "id": "805a40d0",
   "metadata": {},
   "outputs": [
    {
     "name": "stdout",
     "output_type": "stream",
     "text": [
      "(3,)\n",
      "1\n",
      "[1 2 3]\n"
     ]
    }
   ],
   "source": [
    "a1=np.array([1,2,3])\n",
    "print(a1.shape)\n",
    "print(a1.ndim)\n",
    "print(a1)"
   ]
  },
  {
   "cell_type": "code",
   "execution_count": 3,
   "id": "5f558087",
   "metadata": {},
   "outputs": [
    {
     "name": "stdout",
     "output_type": "stream",
     "text": [
      "(2, 3, 3)\n",
      "3\n",
      "[[[ 1  2  3]\n",
      "  [ 4  5  6]\n",
      "  [ 7  8  9]]\n",
      "\n",
      " [[10 11 12]\n",
      "  [13 14 15]\n",
      "  [16 17 18]]]\n"
     ]
    }
   ],
   "source": [
    "a3=np.array([[[1,2,3],\n",
    "              [4,5,6],\n",
    "              [7,8,9]],\n",
    "             \n",
    "            [[10,11,12],\n",
    "            [13,14,15],\n",
    "            [16,17,18]]])\n",
    "print(a3.shape)\n",
    "print(a3.ndim)\n",
    "print(a3)"
   ]
  },
  {
   "cell_type": "code",
   "execution_count": 17,
   "id": "8ff37785",
   "metadata": {},
   "outputs": [
    {
     "name": "stdout",
     "output_type": "stream",
     "text": [
      "a1 1D___________________________\n",
      " \n",
      "[1 2 3]\n",
      " \n",
      "a2 2D___________________________\n",
      " \n",
      "[[1 2 3]\n",
      " [4 5 6]\n",
      " [7 8 9]]\n",
      " \n",
      "a3 3D___________________________\n",
      " \n",
      "[[[ 1  2  3]\n",
      "  [ 4  5  6]\n",
      "  [ 7  8  9]]\n",
      "\n",
      " [[10 11 12]\n",
      "  [13 14 15]\n",
      "  [16 17 18]]]\n"
     ]
    }
   ],
   "source": [
    "print(\"a1 1D___________________________\")\n",
    "print(\" \")\n",
    "print(a1)\n",
    "\n",
    "print(\" \")\n",
    "print(\"a2 2D___________________________\")\n",
    "print(\" \")\n",
    "print(a2)\n",
    "\n",
    "print(\" \")\n",
    "print(\"a3 3D___________________________\")\n",
    "print(\" \")\n",
    "print(a3)"
   ]
  },
  {
   "cell_type": "code",
   "execution_count": 13,
   "id": "42571a6a",
   "metadata": {},
   "outputs": [
    {
     "data": {
      "text/plain": [
       "1"
      ]
     },
     "execution_count": 13,
     "metadata": {},
     "output_type": "execute_result"
    }
   ],
   "source": [
    "a1[0]"
   ]
  },
  {
   "cell_type": "code",
   "execution_count": 16,
   "id": "b7420dd7",
   "metadata": {},
   "outputs": [
    {
     "data": {
      "text/plain": [
       "array([1, 2, 3])"
      ]
     },
     "execution_count": 16,
     "metadata": {},
     "output_type": "execute_result"
    }
   ],
   "source": [
    "a2[0]"
   ]
  },
  {
   "cell_type": "code",
   "execution_count": 22,
   "id": "24306c4d",
   "metadata": {},
   "outputs": [
    {
     "data": {
      "text/plain": [
       "array([[1, 2, 3],\n",
       "       [4, 5, 6],\n",
       "       [7, 8, 9]])"
      ]
     },
     "execution_count": 22,
     "metadata": {},
     "output_type": "execute_result"
    }
   ],
   "source": [
    "a3[0]"
   ]
  },
  {
   "cell_type": "code",
   "execution_count": 23,
   "id": "a1f6c00d",
   "metadata": {},
   "outputs": [
    {
     "data": {
      "text/plain": [
       "array([[10, 11, 12],\n",
       "       [13, 14, 15],\n",
       "       [16, 17, 18]])"
      ]
     },
     "execution_count": 23,
     "metadata": {},
     "output_type": "execute_result"
    }
   ],
   "source": [
    "a3[1]"
   ]
  },
  {
   "cell_type": "code",
   "execution_count": 24,
   "id": "6ee881d4",
   "metadata": {},
   "outputs": [
    {
     "ename": "IndexError",
     "evalue": "index 2 is out of bounds for axis 0 with size 2",
     "output_type": "error",
     "traceback": [
      "\u001b[1;31m---------------------------------------------------------------------------\u001b[0m",
      "\u001b[1;31mIndexError\u001b[0m                                Traceback (most recent call last)",
      "\u001b[1;32m<ipython-input-24-d8a6e82c572a>\u001b[0m in \u001b[0;36m<module>\u001b[1;34m\u001b[0m\n\u001b[1;32m----> 1\u001b[1;33m \u001b[0ma3\u001b[0m\u001b[1;33m[\u001b[0m\u001b[1;36m2\u001b[0m\u001b[1;33m]\u001b[0m\u001b[1;33m\u001b[0m\u001b[1;33m\u001b[0m\u001b[0m\n\u001b[0m",
      "\u001b[1;31mIndexError\u001b[0m: index 2 is out of bounds for axis 0 with size 2"
     ]
    }
   ],
   "source": [
    "a3[2]"
   ]
  },
  {
   "cell_type": "code",
   "execution_count": 25,
   "id": "2de87369",
   "metadata": {},
   "outputs": [
    {
     "data": {
      "text/plain": [
       "array([[[ 1,  2,  3],\n",
       "        [ 4,  5,  6],\n",
       "        [ 7,  8,  9]],\n",
       "\n",
       "       [[10, 11, 12],\n",
       "        [13, 14, 15],\n",
       "        [16, 17, 18]]])"
      ]
     },
     "execution_count": 25,
     "metadata": {},
     "output_type": "execute_result"
    }
   ],
   "source": [
    "a3"
   ]
  },
  {
   "cell_type": "code",
   "execution_count": 31,
   "id": "d192323e",
   "metadata": {},
   "outputs": [
    {
     "data": {
      "text/plain": [
       "array([[1, 2, 3],\n",
       "       [4, 5, 6],\n",
       "       [7, 8, 9]])"
      ]
     },
     "execution_count": 31,
     "metadata": {},
     "output_type": "execute_result"
    }
   ],
   "source": [
    "a3[0] #[axis][row][columns]"
   ]
  },
  {
   "cell_type": "code",
   "execution_count": 33,
   "id": "467f11e4",
   "metadata": {},
   "outputs": [
    {
     "data": {
      "text/plain": [
       "array([7, 8, 9])"
      ]
     },
     "execution_count": 33,
     "metadata": {},
     "output_type": "execute_result"
    }
   ],
   "source": [
    "a3[0][2]    #[axis][row][columns]"
   ]
  },
  {
   "cell_type": "code",
   "execution_count": 35,
   "id": "e51f91df",
   "metadata": {},
   "outputs": [
    {
     "data": {
      "text/plain": [
       "9"
      ]
     },
     "execution_count": 35,
     "metadata": {},
     "output_type": "execute_result"
    }
   ],
   "source": [
    "a3[0][2][2]     #[axis][row][columns]"
   ]
  },
  {
   "cell_type": "code",
   "execution_count": 36,
   "id": "afe1e77f",
   "metadata": {},
   "outputs": [
    {
     "data": {
      "text/plain": [
       "9"
      ]
     },
     "execution_count": 36,
     "metadata": {},
     "output_type": "execute_result"
    }
   ],
   "source": [
    "a3[0,2,2]       #[axis][row][columns]"
   ]
  },
  {
   "cell_type": "code",
   "execution_count": 39,
   "id": "b6cdff71",
   "metadata": {},
   "outputs": [
    {
     "data": {
      "text/plain": [
       "array([], shape=(0, 2, 2), dtype=int32)"
      ]
     },
     "execution_count": 39,
     "metadata": {},
     "output_type": "execute_result"
    }
   ],
   "source": [
    "a3[:0,:2,:2]    #[axis][row][columns]"
   ]
  },
  {
   "cell_type": "code",
   "execution_count": 40,
   "id": "562c9774",
   "metadata": {},
   "outputs": [
    {
     "data": {
      "text/plain": [
       "array([[[1, 2],\n",
       "        [4, 5]]])"
      ]
     },
     "execution_count": 40,
     "metadata": {},
     "output_type": "execute_result"
    }
   ],
   "source": [
    "a3[:1,:2,:2]    #[axis][row][columns]"
   ]
  },
  {
   "cell_type": "code",
   "execution_count": 41,
   "id": "807bcb4e",
   "metadata": {},
   "outputs": [
    {
     "data": {
      "text/plain": [
       "array([[[ 1,  2],\n",
       "        [ 4,  5]],\n",
       "\n",
       "       [[10, 11],\n",
       "        [13, 14]]])"
      ]
     },
     "execution_count": 41,
     "metadata": {},
     "output_type": "execute_result"
    }
   ],
   "source": [
    "a3[:2,:2,:2]    #[axis][row][columns]"
   ]
  },
  {
   "cell_type": "code",
   "execution_count": 42,
   "id": "1c366b66",
   "metadata": {},
   "outputs": [
    {
     "data": {
      "text/plain": [
       "array([[[ 1,  2,  3],\n",
       "        [ 4,  5,  6],\n",
       "        [ 7,  8,  9]],\n",
       "\n",
       "       [[10, 11, 12],\n",
       "        [13, 14, 15],\n",
       "        [16, 17, 18]]])"
      ]
     },
     "execution_count": 42,
     "metadata": {},
     "output_type": "execute_result"
    }
   ],
   "source": [
    "a3"
   ]
  },
  {
   "cell_type": "code",
   "execution_count": 46,
   "id": "5c7f25a2",
   "metadata": {},
   "outputs": [
    {
     "data": {
      "text/plain": [
       "array([[[ 1,  2],\n",
       "        [ 4,  5]],\n",
       "\n",
       "       [[10, 11],\n",
       "        [13, 14]]])"
      ]
     },
     "execution_count": 46,
     "metadata": {},
     "output_type": "execute_result"
    }
   ],
   "source": [
    "a3[:2,:2,:2]     #[axis][row][columns]"
   ]
  },
  {
   "cell_type": "code",
   "execution_count": 47,
   "id": "d24b5cee",
   "metadata": {},
   "outputs": [
    {
     "data": {
      "text/plain": [
       "array([[[ 1,  2,  3],\n",
       "        [ 4,  5,  6]],\n",
       "\n",
       "       [[10, 11, 12],\n",
       "        [13, 14, 15]]])"
      ]
     },
     "execution_count": 47,
     "metadata": {},
     "output_type": "execute_result"
    }
   ],
   "source": [
    "a3[:2,:2,:3]     #[axis][row][columns]"
   ]
  },
  {
   "cell_type": "code",
   "execution_count": 48,
   "id": "9b5eff8b",
   "metadata": {},
   "outputs": [
    {
     "data": {
      "text/plain": [
       "array([[[ 1,  2],\n",
       "        [ 4,  5]],\n",
       "\n",
       "       [[10, 11],\n",
       "        [13, 14]]])"
      ]
     },
     "execution_count": 48,
     "metadata": {},
     "output_type": "execute_result"
    }
   ],
   "source": [
    "a3[0:2,:2,:2]"
   ]
  },
  {
   "cell_type": "code",
   "execution_count": 49,
   "id": "3b7eeab0",
   "metadata": {},
   "outputs": [
    {
     "data": {
      "text/plain": [
       "array([[[10, 11],\n",
       "        [13, 14]]])"
      ]
     },
     "execution_count": 49,
     "metadata": {},
     "output_type": "execute_result"
    }
   ],
   "source": [
    "a3[1:2,:2,:2]"
   ]
  },
  {
   "cell_type": "code",
   "execution_count": 5,
   "id": "419aeea4",
   "metadata": {},
   "outputs": [
    {
     "data": {
      "text/plain": [
       "array([[1, 2, 3],\n",
       "       [4, 5, 6],\n",
       "       [7, 8, 9]])"
      ]
     },
     "execution_count": 5,
     "metadata": {},
     "output_type": "execute_result"
    }
   ],
   "source": [
    "a3[0]"
   ]
  },
  {
   "cell_type": "code",
   "execution_count": 6,
   "id": "5b7391b4",
   "metadata": {},
   "outputs": [
    {
     "data": {
      "text/plain": [
       "array([[[ 1,  2,  3],\n",
       "        [ 4,  5,  6],\n",
       "        [ 7,  8,  9]],\n",
       "\n",
       "       [[10, 11, 12],\n",
       "        [13, 14, 15],\n",
       "        [16, 17, 18]]])"
      ]
     },
     "execution_count": 6,
     "metadata": {},
     "output_type": "execute_result"
    }
   ],
   "source": [
    "a3"
   ]
  },
  {
   "cell_type": "code",
   "execution_count": 3,
   "id": "76d30f14",
   "metadata": {},
   "outputs": [
    {
     "name": "stdout",
     "output_type": "stream",
     "text": [
      "(2, 3, 4, 5)\n",
      "4\n"
     ]
    },
    {
     "data": {
      "text/plain": [
       "array([[[[0, 9, 1, 4, 9],\n",
       "         [0, 6, 7, 6, 7],\n",
       "         [2, 0, 9, 0, 5],\n",
       "         [7, 4, 0, 5, 5]],\n",
       "\n",
       "        [[0, 2, 1, 5, 8],\n",
       "         [7, 1, 4, 1, 4],\n",
       "         [8, 8, 4, 7, 1],\n",
       "         [1, 8, 5, 2, 3]],\n",
       "\n",
       "        [[4, 2, 4, 8, 1],\n",
       "         [9, 1, 3, 2, 4],\n",
       "         [5, 7, 2, 7, 6],\n",
       "         [1, 2, 9, 5, 6]]],\n",
       "\n",
       "\n",
       "       [[[2, 7, 3, 7, 8],\n",
       "         [3, 7, 2, 8, 4],\n",
       "         [5, 0, 6, 4, 4],\n",
       "         [8, 9, 0, 8, 9]],\n",
       "\n",
       "        [[8, 2, 9, 9, 6],\n",
       "         [1, 4, 5, 4, 9],\n",
       "         [1, 0, 0, 5, 2],\n",
       "         [6, 3, 2, 5, 5]],\n",
       "\n",
       "        [[4, 2, 5, 8, 1],\n",
       "         [9, 7, 5, 3, 2],\n",
       "         [1, 5, 7, 5, 6],\n",
       "         [0, 9, 5, 3, 1]]]])"
      ]
     },
     "execution_count": 3,
     "metadata": {},
     "output_type": "execute_result"
    }
   ],
   "source": [
    "a4=np.random.randint(0,10,size=(2,3,4,5))\n",
    "print(a4.shape)\n",
    "print(a4.ndim)\n",
    "a4"
   ]
  },
  {
   "cell_type": "markdown",
   "id": "03388a66",
   "metadata": {},
   "source": [
    "##### "
   ]
  },
  {
   "cell_type": "code",
   "execution_count": 4,
   "id": "aaf62b73",
   "metadata": {},
   "outputs": [
    {
     "data": {
      "text/plain": [
       "array([[[[0]]]])"
      ]
     },
     "execution_count": 4,
     "metadata": {},
     "output_type": "execute_result"
    }
   ],
   "source": [
    "a4[:1,:1,:1,:1]    # [axis][number of matrix in each axis][row][colum]"
   ]
  },
  {
   "cell_type": "code",
   "execution_count": 7,
   "id": "5017b253",
   "metadata": {},
   "outputs": [
    {
     "data": {
      "text/plain": [
       "9"
      ]
     },
     "execution_count": 7,
     "metadata": {},
     "output_type": "execute_result"
    }
   ],
   "source": [
    "a4[0][0][0][1]    #[axis][number of matrix in each axis][row][colum]"
   ]
  },
  {
   "cell_type": "code",
   "execution_count": 6,
   "id": "2a2bca5d",
   "metadata": {},
   "outputs": [
    {
     "data": {
      "text/plain": [
       "0"
      ]
     },
     "execution_count": 6,
     "metadata": {},
     "output_type": "execute_result"
    }
   ],
   "source": [
    "a4[0][1][0][0]"
   ]
  },
  {
   "cell_type": "code",
   "execution_count": 10,
   "id": "3530784f",
   "metadata": {},
   "outputs": [
    {
     "data": {
      "text/plain": [
       "array([[[[0, 9, 1],\n",
       "         [0, 6, 7],\n",
       "         [2, 0, 9],\n",
       "         [7, 4, 0]],\n",
       "\n",
       "        [[0, 2, 1],\n",
       "         [7, 1, 4],\n",
       "         [8, 8, 4],\n",
       "         [1, 8, 5]],\n",
       "\n",
       "        [[4, 2, 4],\n",
       "         [9, 1, 3],\n",
       "         [5, 7, 2],\n",
       "         [1, 2, 9]]],\n",
       "\n",
       "\n",
       "       [[[2, 7, 3],\n",
       "         [3, 7, 2],\n",
       "         [5, 0, 6],\n",
       "         [8, 9, 0]],\n",
       "\n",
       "        [[8, 2, 9],\n",
       "         [1, 4, 5],\n",
       "         [1, 0, 0],\n",
       "         [6, 3, 2]],\n",
       "\n",
       "        [[4, 2, 5],\n",
       "         [9, 7, 5],\n",
       "         [1, 5, 7],\n",
       "         [0, 9, 5]]]])"
      ]
     },
     "execution_count": 10,
     "metadata": {},
     "output_type": "execute_result"
    }
   ],
   "source": [
    "#get the first 4 numbers of the inner most arrays\n",
    "a4[:,:,:,:3]"
   ]
  },
  {
   "cell_type": "code",
   "execution_count": 11,
   "id": "a37fb940",
   "metadata": {},
   "outputs": [
    {
     "data": {
      "text/plain": [
       "array([[[[0, 9, 1, 4, 9],\n",
       "         [0, 6, 7, 6, 7],\n",
       "         [2, 0, 9, 0, 5],\n",
       "         [7, 4, 0, 5, 5]],\n",
       "\n",
       "        [[0, 2, 1, 5, 8],\n",
       "         [7, 1, 4, 1, 4],\n",
       "         [8, 8, 4, 7, 1],\n",
       "         [1, 8, 5, 2, 3]],\n",
       "\n",
       "        [[4, 2, 4, 8, 1],\n",
       "         [9, 1, 3, 2, 4],\n",
       "         [5, 7, 2, 7, 6],\n",
       "         [1, 2, 9, 5, 6]]],\n",
       "\n",
       "\n",
       "       [[[2, 7, 3, 7, 8],\n",
       "         [3, 7, 2, 8, 4],\n",
       "         [5, 0, 6, 4, 4],\n",
       "         [8, 9, 0, 8, 9]],\n",
       "\n",
       "        [[8, 2, 9, 9, 6],\n",
       "         [1, 4, 5, 4, 9],\n",
       "         [1, 0, 0, 5, 2],\n",
       "         [6, 3, 2, 5, 5]],\n",
       "\n",
       "        [[4, 2, 5, 8, 1],\n",
       "         [9, 7, 5, 3, 2],\n",
       "         [1, 5, 7, 5, 6],\n",
       "         [0, 9, 5, 3, 1]]]])"
      ]
     },
     "execution_count": 11,
     "metadata": {},
     "output_type": "execute_result"
    }
   ],
   "source": [
    "a4\n"
   ]
  },
  {
   "cell_type": "code",
   "execution_count": 12,
   "id": "5bb57913",
   "metadata": {},
   "outputs": [
    {
     "data": {
      "text/plain": [
       "array([[[[4, 2, 5, 8]]]])"
      ]
     },
     "execution_count": 12,
     "metadata": {},
     "output_type": "execute_result"
    }
   ],
   "source": [
    "a4[1:2,2:3,:1,:4]"
   ]
  },
  {
   "cell_type": "markdown",
   "id": "7adfa051",
   "metadata": {},
   "source": []
  }
 ],
 "metadata": {
  "kernelspec": {
   "display_name": "Python 3",
   "language": "python",
   "name": "python3"
  },
  "language_info": {
   "codemirror_mode": {
    "name": "ipython",
    "version": 3
   },
   "file_extension": ".py",
   "mimetype": "text/x-python",
   "name": "python",
   "nbconvert_exporter": "python",
   "pygments_lexer": "ipython3",
   "version": "3.8.8"
  }
 },
 "nbformat": 4,
 "nbformat_minor": 5
}
